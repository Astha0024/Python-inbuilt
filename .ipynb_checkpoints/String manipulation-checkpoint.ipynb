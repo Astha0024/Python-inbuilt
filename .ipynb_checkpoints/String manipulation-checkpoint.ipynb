{
 "cells": [
  {
   "cell_type": "code",
   "execution_count": 3,
   "id": "4cff61c2",
   "metadata": {},
   "outputs": [
    {
     "name": "stdout",
     "output_type": "stream",
     "text": [
      "Yes\n"
     ]
    }
   ],
   "source": [
    "def canBeEqual(a, b, n):\n",
    "    \"\"\"\n",
    "    To check whether string a and b can be made equal by swapping 0 or 1 times only\n",
    "    \"\"\"\n",
    "    \n",
    "    # Create list to append mismatched characters\n",
    "    A=[]\n",
    "    B=[]\n",
    "    \n",
    "    for i in range(n):\n",
    "        if a[i]!=b[i]:\n",
    "            A.append(a[i])\n",
    "            B.append(b[i])\n",
    "    \n",
    "    if len(A)==len(B)==0:\n",
    "        return True\n",
    "    \n",
    "    if len(A)==len(B)==2:\n",
    "        if A[0]==A[1] and B[0]==B[1]:\n",
    "            return True\n",
    "    \n",
    "    return False\n",
    "\n",
    "\n",
    "\n",
    "\n",
    "# TEST THE FUNCTION (Answer: Yes)\n",
    "            \n",
    "A = 'SEEKSFORGEEKS'\n",
    "B = 'GEEKSFORGEEKG'\n",
    " \n",
    "if (canBeEqual(A, B, len(A))):\n",
    "    print(\"Yes\")\n",
    "else:\n",
    "    print(\"No\")   "
   ]
  },
  {
   "cell_type": "code",
   "execution_count": 24,
   "id": "23b2e0a5",
   "metadata": {},
   "outputs": [
    {
     "data": {
      "text/plain": [
       "'Pallindrome'"
      ]
     },
     "execution_count": 24,
     "metadata": {},
     "output_type": "execute_result"
    }
   ],
   "source": [
    "symm_str = 'khokho'\n",
    "pall_str = 'natan'\n",
    "\n",
    "def check_str(test_str):\n",
    "    \"\"\"\n",
    "    To check whether a string is symmetric or pallindrome\n",
    "    \"\"\"\n",
    "    half = int(len(test_str) / 2)\n",
    "    if len(test_str) % 2 == 0:\n",
    "        first = test_str[:half]\n",
    "        second = test_str[half:]\n",
    "    else:\n",
    "        first = test_str[:half]\n",
    "        second = test_str[half+1:]\n",
    "    \n",
    "    if first==second:\n",
    "        return 'Symmetric strings'\n",
    "    elif first==second[::-1]:\n",
    "        return 'Pallindrome'\n",
    "    \n",
    "# TEST THE FUNCTION\n",
    "check_str(symm_str)\n",
    "check_str(pall_str)"
   ]
  },
  {
   "cell_type": "code",
   "execution_count": 35,
   "id": "52ea5eb9",
   "metadata": {},
   "outputs": [
    {
     "name": "stdout",
     "output_type": "stream",
     "text": [
      "line original the is This\n"
     ]
    }
   ],
   "source": [
    "# Reverse words in a string\n",
    "orig = 'This is the original line'\n",
    "\n",
    "orig_words=orig.split()\n",
    "rev_words=orig_words[::-1]\n",
    "\n",
    "print(\" \".join(rev_words))"
   ]
  },
  {
   "cell_type": "code",
   "execution_count": 36,
   "id": "a784656c",
   "metadata": {},
   "outputs": [
    {
     "name": "stdout",
     "output_type": "stream",
     "text": [
      "lowerUPPER\n"
     ]
    }
   ],
   "source": [
    "# Make the second half of string as upper case\n",
    "test_str='lowerupper'\n",
    "half=int(len(test_str)/2)\n",
    "print(test_str[:half] + test_str[half:].upper())"
   ]
  },
  {
   "cell_type": "code",
   "execution_count": null,
   "id": "814b1d2d",
   "metadata": {},
   "outputs": [],
   "source": []
  },
  {
   "cell_type": "code",
   "execution_count": null,
   "id": "8fa57f1f",
   "metadata": {},
   "outputs": [],
   "source": []
  },
  {
   "cell_type": "code",
   "execution_count": null,
   "id": "c988dfc0",
   "metadata": {},
   "outputs": [],
   "source": []
  }
 ],
 "metadata": {
  "kernelspec": {
   "display_name": "Python 3 (ipykernel)",
   "language": "python",
   "name": "python3"
  },
  "language_info": {
   "codemirror_mode": {
    "name": "ipython",
    "version": 3
   },
   "file_extension": ".py",
   "mimetype": "text/x-python",
   "name": "python",
   "nbconvert_exporter": "python",
   "pygments_lexer": "ipython3",
   "version": "3.9.7"
  }
 },
 "nbformat": 4,
 "nbformat_minor": 5
}
