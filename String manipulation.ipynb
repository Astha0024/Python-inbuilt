{
 "cells": [
  {
   "cell_type": "code",
   "execution_count": 3,
   "id": "4cff61c2",
   "metadata": {},
   "outputs": [
    {
     "name": "stdout",
     "output_type": "stream",
     "text": [
      "Yes\n"
     ]
    }
   ],
   "source": [
    "def canBeEqual(a, b, n):\n",
    "    \"\"\"\n",
    "    To check whether string a and b can be made equal by swapping 0 or 1 times only\n",
    "    \"\"\"\n",
    "    \n",
    "    # Create list to append mismatched characters\n",
    "    A=[]\n",
    "    B=[]\n",
    "    \n",
    "    for i in range(n):\n",
    "        if a[i]!=b[i]:\n",
    "            A.append(a[i])\n",
    "            B.append(b[i])\n",
    "    \n",
    "    if len(A)==len(B)==0:\n",
    "        return True\n",
    "    \n",
    "    if len(A)==len(B)==2:\n",
    "        if A[0]==A[1] and B[0]==B[1]:\n",
    "            return True\n",
    "    \n",
    "    return False\n",
    "\n",
    "\n",
    "\n",
    "\n",
    "# TEST THE FUNCTION (Answer: Yes)\n",
    "            \n",
    "A = 'SEEKSFORGEEKS'\n",
    "B = 'GEEKSFORGEEKG'\n",
    " \n",
    "if (canBeEqual(A, B, len(A))):\n",
    "    print(\"Yes\")\n",
    "else:\n",
    "    print(\"No\")   "
   ]
  },
  {
   "cell_type": "code",
   "execution_count": 22,
   "id": "aee98e57",
   "metadata": {},
   "outputs": [
    {
     "data": {
      "text/plain": [
       "'Pallindrome'"
      ]
     },
     "execution_count": 22,
     "metadata": {},
     "output_type": "execute_result"
    }
   ],
   "source": [
    "symm_str = 'khokho'\n",
    "pall_str = 'natan'\n",
    "\n",
    "def check_str(test_str):\n",
    "    \"\"\"\n",
    "    To check whether a string is symmetric or pallindrome\n",
    "    \"\"\"\n",
    "    half = int(len(test_str) / 2)\n",
    "    if len(test_str) % 2 == 0:\n",
    "        first = test_str[:half]\n",
    "        second = test_str[half:]\n",
    "    else:\n",
    "        first = test_str[:half]\n",
    "        second = test_str[half+1:]\n",
    "    \n",
    "    if first==second:\n",
    "        return 'Symmetric strings'\n",
    "    else:\n",
    "        return 'Pallindrome'\n",
    "    \n",
    "# TEST THE FUNCTION\n",
    "check_str(symm_str)\n",
    "check_str(pall_str)"
   ]
  },
  {
   "cell_type": "code",
   "execution_count": null,
   "id": "7cafb1cc",
   "metadata": {},
   "outputs": [],
   "source": []
  },
  {
   "cell_type": "code",
   "execution_count": null,
   "id": "173fac15",
   "metadata": {},
   "outputs": [],
   "source": []
  },
  {
   "cell_type": "code",
   "execution_count": null,
   "id": "570a9b07",
   "metadata": {},
   "outputs": [],
   "source": []
  },
  {
   "cell_type": "code",
   "execution_count": null,
   "id": "5c185cb9",
   "metadata": {},
   "outputs": [],
   "source": []
  },
  {
   "cell_type": "code",
   "execution_count": null,
   "id": "e2825703",
   "metadata": {},
   "outputs": [],
   "source": []
  }
 ],
 "metadata": {
  "kernelspec": {
   "display_name": "Python 3 (ipykernel)",
   "language": "python",
   "name": "python3"
  },
  "language_info": {
   "codemirror_mode": {
    "name": "ipython",
    "version": 3
   },
   "file_extension": ".py",
   "mimetype": "text/x-python",
   "name": "python",
   "nbconvert_exporter": "python",
   "pygments_lexer": "ipython3",
   "version": "3.9.7"
  }
 },
 "nbformat": 4,
 "nbformat_minor": 5
}
