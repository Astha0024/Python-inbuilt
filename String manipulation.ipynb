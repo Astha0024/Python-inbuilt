{
 "cells": [
  {
   "cell_type": "code",
   "execution_count": 3,
   "id": "4cff61c2",
   "metadata": {},
   "outputs": [
    {
     "name": "stdout",
     "output_type": "stream",
     "text": [
      "Yes\n"
     ]
    }
   ],
   "source": [
    "def canBeEqual(a, b, n):\n",
    "    \"\"\"\n",
    "    To check whether string a and b can be made equal by swapping 0 or 1 times only\n",
    "    \"\"\"\n",
    "    \n",
    "    # Create list to append mismatched characters\n",
    "    A=[]\n",
    "    B=[]\n",
    "    \n",
    "    for i in range(n):\n",
    "        if a[i]!=b[i]:\n",
    "            A.append(a[i])\n",
    "            B.append(b[i])\n",
    "    \n",
    "    if len(A)==len(B)==0:\n",
    "        return True\n",
    "    \n",
    "    if len(A)==len(B)==2:\n",
    "        if A[0]==A[1] and B[0]==B[1]:\n",
    "            return True\n",
    "    \n",
    "    return False\n",
    "\n",
    "\n",
    "\n",
    "\n",
    "# TEST THE FUNCTION (Answer: Yes)\n",
    "            \n",
    "A = 'SEEKSFORGEEKS'\n",
    "B = 'GEEKSFORGEEKG'\n",
    " \n",
    "if (canBeEqual(A, B, len(A))):\n",
    "    print(\"Yes\")\n",
    "else:\n",
    "    print(\"No\")   "
   ]
  },
  {
   "cell_type": "code",
   "execution_count": 24,
   "id": "88826e7b",
   "metadata": {},
   "outputs": [
    {
     "data": {
      "text/plain": [
       "'Pallindrome'"
      ]
     },
     "execution_count": 24,
     "metadata": {},
     "output_type": "execute_result"
    }
   ],
   "source": [
    "symm_str = 'khokho'\n",
    "pall_str = 'natan'\n",
    "\n",
    "def check_str(test_str):\n",
    "    \"\"\"\n",
    "    To check whether a string is symmetric or pallindrome\n",
    "    \"\"\"\n",
    "    half = int(len(test_str) / 2)\n",
    "    if len(test_str) % 2 == 0:\n",
    "        first = test_str[:half]\n",
    "        second = test_str[half:]\n",
    "    else:\n",
    "        first = test_str[:half]\n",
    "        second = test_str[half+1:]\n",
    "    \n",
    "    if first==second:\n",
    "        return 'Symmetric strings'\n",
    "    elif first==second[::-1]:\n",
    "        return 'Pallindrome'\n",
    "    \n",
    "# TEST THE FUNCTION\n",
    "check_str(symm_str)\n",
    "check_str(pall_str)"
   ]
  },
  {
   "cell_type": "code",
   "execution_count": 35,
   "id": "a7b4cd30",
   "metadata": {},
   "outputs": [
    {
     "name": "stdout",
     "output_type": "stream",
     "text": [
      "line original the is This\n"
     ]
    }
   ],
   "source": [
    "# Reverse words in a string\n",
    "orig = 'This is the original line'\n",
    "\n",
    "orig_words=orig.split()\n",
    "rev_words=orig_words[::-1]\n",
    "\n",
    "print(\" \".join(rev_words))"
   ]
  },
  {
   "cell_type": "code",
   "execution_count": 36,
   "id": "d2e115c0",
   "metadata": {},
   "outputs": [
    {
     "name": "stdout",
     "output_type": "stream",
     "text": [
      "lowerUPPER\n"
     ]
    }
   ],
   "source": [
    "# Make the second half of string as upper case\n",
    "test_str='lowerupper'\n",
    "half=int(len(test_str)/2)\n",
    "print(test_str[:half] + test_str[half:].upper())"
   ]
  },
  {
   "cell_type": "code",
   "execution_count": 38,
   "id": "2f553c4d",
   "metadata": {},
   "outputs": [
    {
     "ename": "TypeError",
     "evalue": "'str' object does not support item assignment",
     "output_type": "error",
     "traceback": [
      "\u001b[0;31m---------------------------------------------------------------------------\u001b[0m",
      "\u001b[0;31mTypeError\u001b[0m                                 Traceback (most recent call last)",
      "\u001b[0;32m/var/folders/71/ymgjllnd4ps_ns5gg6w_0jnm0000gn/T/ipykernel_1625/9716206.py\u001b[0m in \u001b[0;36m<module>\u001b[0;34m\u001b[0m\n\u001b[1;32m      4\u001b[0m \u001b[0;32mfor\u001b[0m \u001b[0mw\u001b[0m \u001b[0;32min\u001b[0m \u001b[0mwords\u001b[0m\u001b[0;34m:\u001b[0m\u001b[0;34m\u001b[0m\u001b[0;34m\u001b[0m\u001b[0m\n\u001b[1;32m      5\u001b[0m     \u001b[0;32mfor\u001b[0m \u001b[0mi\u001b[0m \u001b[0;32min\u001b[0m \u001b[0mrange\u001b[0m\u001b[0;34m(\u001b[0m\u001b[0mlen\u001b[0m\u001b[0;34m(\u001b[0m\u001b[0mw\u001b[0m\u001b[0;34m)\u001b[0m\u001b[0;34m)\u001b[0m\u001b[0;34m:\u001b[0m\u001b[0;34m\u001b[0m\u001b[0;34m\u001b[0m\u001b[0m\n\u001b[0;32m----> 6\u001b[0;31m         \u001b[0mw\u001b[0m\u001b[0;34m[\u001b[0m\u001b[0;36m0\u001b[0m\u001b[0;34m]\u001b[0m\u001b[0;34m=\u001b[0m\u001b[0mw\u001b[0m\u001b[0;34m[\u001b[0m\u001b[0;36m0\u001b[0m\u001b[0;34m]\u001b[0m\u001b[0;34m.\u001b[0m\u001b[0mupper\u001b[0m\u001b[0;34m(\u001b[0m\u001b[0;34m)\u001b[0m\u001b[0;34m\u001b[0m\u001b[0;34m\u001b[0m\u001b[0m\n\u001b[0m\u001b[1;32m      7\u001b[0m         \u001b[0mw\u001b[0m\u001b[0;34m[\u001b[0m\u001b[0;34m-\u001b[0m\u001b[0;36m1\u001b[0m\u001b[0;34m]\u001b[0m\u001b[0;34m=\u001b[0m\u001b[0mw\u001b[0m\u001b[0;34m[\u001b[0m\u001b[0;34m-\u001b[0m\u001b[0;36m1\u001b[0m\u001b[0;34m]\u001b[0m\u001b[0;34m.\u001b[0m\u001b[0mupper\u001b[0m\u001b[0;34m(\u001b[0m\u001b[0;34m)\u001b[0m\u001b[0;34m\u001b[0m\u001b[0;34m\u001b[0m\u001b[0m\n\u001b[1;32m      8\u001b[0m \u001b[0mprint\u001b[0m\u001b[0;34m(\u001b[0m\u001b[0mwords\u001b[0m\u001b[0;34m)\u001b[0m\u001b[0;34m\u001b[0m\u001b[0;34m\u001b[0m\u001b[0m\n",
      "\u001b[0;31mTypeError\u001b[0m: 'str' object does not support item assignment"
     ]
    }
   ],
   "source": [
    "# Capitalize first and last letter of each word in a string\n",
    "test_str = 'first word and last word'\n",
    "words=test_str.split()\n",
    "for w in words:\n",
    "    for i in range(len(w)):\n",
    "        w[0]=w[0].upper()\n",
    "        w[-1]=w[-1].upper()\n",
    "print(words)"
   ]
  },
  {
   "cell_type": "code",
   "execution_count": null,
   "id": "7c29e465",
   "metadata": {},
   "outputs": [],
   "source": []
  },
  {
   "cell_type": "code",
   "execution_count": null,
   "id": "0619868e",
   "metadata": {},
   "outputs": [],
   "source": []
  }
 ],
 "metadata": {
  "kernelspec": {
   "display_name": "Python 3 (ipykernel)",
   "language": "python",
   "name": "python3"
  },
  "language_info": {
   "codemirror_mode": {
    "name": "ipython",
    "version": 3
   },
   "file_extension": ".py",
   "mimetype": "text/x-python",
   "name": "python",
   "nbconvert_exporter": "python",
   "pygments_lexer": "ipython3",
   "version": "3.9.7"
  }
 },
 "nbformat": 4,
 "nbformat_minor": 5
}
