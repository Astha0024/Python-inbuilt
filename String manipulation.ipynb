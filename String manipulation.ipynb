{
 "cells": [
  {
   "cell_type": "code",
   "execution_count": 2,
   "id": "620d0ad9",
   "metadata": {},
   "outputs": [
    {
     "name": "stdout",
     "output_type": "stream",
     "text": [
      "Yes\n"
     ]
    }
   ],
   "source": [
    "def canBeEqual(a, b, n):\n",
    "    \"\"\"\n",
    "    To check whether string a and b can be made equal by swapping 0 or 1 times only\n",
    "    \"\"\"\n",
    "    \n",
    "    # Create list to append mismatched characters\n",
    "    A=[]\n",
    "    B=[]\n",
    "    \n",
    "    for i in range(n):\n",
    "        if a[i]!=b[i]:\n",
    "            A.append(a[i])\n",
    "            B.append(b[i])\n",
    "    \n",
    "    if len(A)==len(B)==0:\n",
    "        return True\n",
    "    \n",
    "    if len(A)==len(B)==2:\n",
    "        if A[0]==A[1] and B[0]==B[1]:\n",
    "            return True\n",
    "    \n",
    "    return False\n",
    "\n",
    "\n",
    "\n",
    "\n",
    "# TEST THE FUNCTION (Answer: Yes)\n",
    "            \n",
    "A = 'SEEKSFORGEEKS'\n",
    "B = 'GEEKSFORGEEKG'\n",
    " \n",
    "if (canBeEqual(A, B, len(A))):\n",
    "    print(\"Yes\")\n",
    "else:\n",
    "    print(\"No\")   "
   ]
  },
  {
   "cell_type": "code",
   "execution_count": null,
   "id": "52bb11b8",
   "metadata": {},
   "outputs": [],
   "source": []
  }
 ],
 "metadata": {
  "kernelspec": {
   "display_name": "Python 3 (ipykernel)",
   "language": "python",
   "name": "python3"
  },
  "language_info": {
   "codemirror_mode": {
    "name": "ipython",
    "version": 3
   },
   "file_extension": ".py",
   "mimetype": "text/x-python",
   "name": "python",
   "nbconvert_exporter": "python",
   "pygments_lexer": "ipython3",
   "version": "3.9.7"
  }
 },
 "nbformat": 4,
 "nbformat_minor": 5
}
